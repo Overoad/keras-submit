{
 "cells": [
  {
   "cell_type": "code",
   "execution_count": 1,
   "metadata": {},
   "outputs": [
    {
     "name": "stderr",
     "output_type": "stream",
     "text": [
      "Using TensorFlow backend.\n"
     ]
    }
   ],
   "source": [
    "import numpy as np\n",
    "from keras.models import Sequential\n",
    "from keras.layers import Dense, Dropout\n",
    "from keras.utils import to_categorical\n",
    "\n",
    "seed = 1337\n",
    "np.random.seed(seed)"
   ]
  },
  {
   "cell_type": "code",
   "execution_count": 2,
   "metadata": {},
   "outputs": [],
   "source": [
    "from keras.datasets import reuters\n",
    "\n",
    "max_words = 1000\n",
    "(x_train, y_train), (x_test, y_test) = reuters.load_data(num_words=max_words,\n",
    "                                                         test_split=0.2,\n",
    "                                                         seed=seed)\n",
    "num_classes = np.max(y_train) + 1  # 46 topics"
   ]
  },
  {
   "cell_type": "code",
   "execution_count": 3,
   "metadata": {},
   "outputs": [],
   "source": [
    "from keras.preprocessing.text import Tokenizer\n",
    "\n",
    "tokenizer = Tokenizer(num_words=max_words)\n",
    "x_train = tokenizer.sequences_to_matrix(x_train, mode='binary')\n",
    "x_test = tokenizer.sequences_to_matrix(x_test, mode='binary')"
   ]
  },
  {
   "cell_type": "code",
   "execution_count": 4,
   "metadata": {},
   "outputs": [],
   "source": [
    "y_train = to_categorical(y_train, num_classes)\n",
    "y_test = to_categorical(y_test, num_classes)"
   ]
  },
  {
   "cell_type": "code",
   "execution_count": 5,
   "metadata": {},
   "outputs": [],
   "source": [
    "model = Sequential()\n",
    "model.add(Dense(512, activation='relu', input_shape=(max_words,)))\n",
    "model.add(Dropout(0.5))\n",
    "model.add(Dense(num_classes, activation='softmax'))"
   ]
  },
  {
   "cell_type": "code",
   "execution_count": 6,
   "metadata": {},
   "outputs": [],
   "source": [
    "model.compile(loss = 'categorical_crossentropy', optimizer = 'adam', metrics=['accuracy'])"
   ]
  },
  {
   "cell_type": "code",
   "execution_count": 7,
   "metadata": {},
   "outputs": [
    {
     "name": "stdout",
     "output_type": "stream",
     "text": [
      "Epoch 1/5\n",
      "8982/8982 [==============================] - 3s 375us/step - loss: 1.3942 - acc: 0.6902\n",
      "Epoch 2/5\n",
      "8982/8982 [==============================] - 3s 327us/step - loss: 0.7736 - acc: 0.8170\n",
      "Epoch 3/5\n",
      "8982/8982 [==============================] - 3s 325us/step - loss: 0.5559 - acc: 0.8662\n",
      "Epoch 4/5\n",
      "8982/8982 [==============================] - 3s 337us/step - loss: 0.4224 - acc: 0.8931\n",
      "Epoch 5/5\n",
      "8982/8982 [==============================] - 3s 336us/step - loss: 0.3474 - acc: 0.9110\n",
      "2246/2246 [==============================] - 0s 55us/step\n"
     ]
    }
   ],
   "source": [
    "batch_size = 32\n",
    "model.fit(x_train, y_train, batch_size=batch_size, epochs=5)\n",
    "score = model.evaluate(x_test, y_test, batch_size=32)"
   ]
  },
  {
   "cell_type": "code",
   "execution_count": 8,
   "metadata": {},
   "outputs": [
    {
     "data": {
      "text/plain": [
       "0.80142475512021372"
      ]
     },
     "execution_count": 8,
     "metadata": {},
     "output_type": "execute_result"
    }
   ],
   "source": [
    "score[1]"
   ]
  },
  {
   "cell_type": "code",
   "execution_count": 14,
   "metadata": {},
   "outputs": [],
   "source": [
    "import h5py\n",
    "model.save(\"model.h5\")"
   ]
  },
  {
   "cell_type": "code",
   "execution_count": 17,
   "metadata": {},
   "outputs": [
    {
     "name": "stderr",
     "output_type": "stream",
     "text": [
      "'base64' n’est pas reconnu en tant que commande interne\n",
      "ou externe, un programme exécutable ou un fichier de commandes.\n"
     ]
    }
   ],
   "source": [
    "import base64\n",
    "!base64 model.h5 > model.h5.base64"
   ]
  },
  {
   "cell_type": "code",
   "execution_count": 18,
   "metadata": {},
   "outputs": [],
   "source": [
    "import requests, json\n",
    "\n",
    "def submit(submitterEmail,secret,key,submission_part, all_parts, data):\n",
    "        submission = {\n",
    "                    \"assignmentKey\": key,\n",
    "                    \"submitterEmail\":  submitterEmail,\n",
    "                    \"secret\":  secret,\n",
    "                    \"parts\": {}\n",
    "                  }\n",
    "        for part in all_parts:\n",
    "            if part == submission_part:\n",
    "                submission[\"parts\"][part] = {\"output\": data}\n",
    "            else:\n",
    "                submission[\"parts\"][part] = dict()\n",
    "        response = requests.post('https://www.coursera.org/api/onDemandProgrammingScriptSubmissions.v1', data=json.dumps(submission))\n",
    "        if response.status_code == 201:\n",
    "            print (\"Submission successful, please check on the coursera grader page for the status\")\n",
    "        else:\n",
    "            print (\"Something went wrong, please have a look at the reponse of the grader\")\n",
    "            print (\"-------------------------\")\n",
    "            print (response.text)\n",
    "            print (\"-------------------------\")"
   ]
  },
  {
   "cell_type": "code",
   "execution_count": 20,
   "metadata": {},
   "outputs": [
    {
     "name": "stdout",
     "output_type": "stream",
     "text": [
      "Submission successful, please check on the coursera grader page for the status\n"
     ]
    }
   ],
   "source": [
    "key = \"XbAMqtjdEeepUgo7OOVwng\"\n",
    "part = \"LqPRQ\"\n",
    "email = \"etienne.coyen@gmail.com\"\n",
    "secret = \"Ofz0PSLcgRLOkoX8\"\n",
    "\n",
    "with open('model.h5.base64', 'r') as myfile:\n",
    "    data=myfile.read()\n",
    "submit(email, secret, key, part, [part], data)"
   ]
  },
  {
   "cell_type": "code",
   "execution_count": null,
   "metadata": {},
   "outputs": [],
   "source": []
  }
 ],
 "metadata": {
  "kernelspec": {
   "display_name": "Python 3",
   "language": "python",
   "name": "python3"
  },
  "language_info": {
   "codemirror_mode": {
    "name": "ipython",
    "version": 3
   },
   "file_extension": ".py",
   "mimetype": "text/x-python",
   "name": "python",
   "nbconvert_exporter": "python",
   "pygments_lexer": "ipython3",
   "version": "3.6.3"
  }
 },
 "nbformat": 4,
 "nbformat_minor": 2
}
